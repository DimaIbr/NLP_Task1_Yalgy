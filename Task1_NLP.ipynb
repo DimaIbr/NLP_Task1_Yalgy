{
  "nbformat": 4,
  "nbformat_minor": 0,
  "metadata": {
    "colab": {
      "provenance": []
    },
    "kernelspec": {
      "name": "python3",
      "display_name": "Python 3"
    },
    "language_info": {
      "name": "python"
    }
  },
  "cells": [
    {
      "cell_type": "code",
      "source": [
        "!pip install yargy"
      ],
      "metadata": {
        "colab": {
          "base_uri": "https://localhost:8080/"
        },
        "id": "jBs2ELamUHAp",
        "outputId": "f6b7176c-f025-43d9-8dab-e5afa7cfb62c"
      },
      "execution_count": 1,
      "outputs": [
        {
          "output_type": "stream",
          "name": "stdout",
          "text": [
            "Collecting yargy\n",
            "  Downloading yargy-0.16.0-py3-none-any.whl (33 kB)\n",
            "Collecting pymorphy2 (from yargy)\n",
            "  Downloading pymorphy2-0.9.1-py3-none-any.whl (55 kB)\n",
            "\u001b[2K     \u001b[90m━━━━━━━━━━━━━━━━━━━━━━━━━━━━━━━━━━━━━━━━\u001b[0m \u001b[32m55.5/55.5 kB\u001b[0m \u001b[31m3.6 MB/s\u001b[0m eta \u001b[36m0:00:00\u001b[0m\n",
            "\u001b[?25hCollecting dawg-python>=0.7.1 (from pymorphy2->yargy)\n",
            "  Downloading DAWG_Python-0.7.2-py2.py3-none-any.whl (11 kB)\n",
            "Collecting pymorphy2-dicts-ru<3.0,>=2.4 (from pymorphy2->yargy)\n",
            "  Downloading pymorphy2_dicts_ru-2.4.417127.4579844-py2.py3-none-any.whl (8.2 MB)\n",
            "\u001b[2K     \u001b[90m━━━━━━━━━━━━━━━━━━━━━━━━━━━━━━━━━━━━━━━━\u001b[0m \u001b[32m8.2/8.2 MB\u001b[0m \u001b[31m52.1 MB/s\u001b[0m eta \u001b[36m0:00:00\u001b[0m\n",
            "\u001b[?25hCollecting docopt>=0.6 (from pymorphy2->yargy)\n",
            "  Downloading docopt-0.6.2.tar.gz (25 kB)\n",
            "  Preparing metadata (setup.py) ... \u001b[?25l\u001b[?25hdone\n",
            "Building wheels for collected packages: docopt\n",
            "  Building wheel for docopt (setup.py) ... \u001b[?25l\u001b[?25hdone\n",
            "  Created wheel for docopt: filename=docopt-0.6.2-py2.py3-none-any.whl size=13706 sha256=51a0cef6e425bad57e95cec6a24eba36e4ae96fd9b30f353171bdb3e68eb3687\n",
            "  Stored in directory: /root/.cache/pip/wheels/fc/ab/d4/5da2067ac95b36618c629a5f93f809425700506f72c9732fac\n",
            "Successfully built docopt\n",
            "Installing collected packages: pymorphy2-dicts-ru, docopt, dawg-python, pymorphy2, yargy\n",
            "Successfully installed dawg-python-0.7.2 docopt-0.6.2 pymorphy2-0.9.1 pymorphy2-dicts-ru-2.4.417127.4579844 yargy-0.16.0\n"
          ]
        }
      ]
    },
    {
      "cell_type": "code",
      "execution_count": 2,
      "metadata": {
        "id": "54rMwvAGQsGl",
        "colab": {
          "base_uri": "https://localhost:8080/"
        },
        "outputId": "c1ecc18a-d6f9-443d-c4a2-5ec2fb91c238"
      },
      "outputs": [
        {
          "output_type": "stream",
          "name": "stdout",
          "text": [
            "Mounted at /content/drive\n"
          ]
        }
      ],
      "source": [
        "from google.colab import drive\n",
        "drive.mount('/content/drive')"
      ]
    },
    {
      "cell_type": "code",
      "source": [
        "path='/content/drive/MyDrive/NLP/task1/news.txt'"
      ],
      "metadata": {
        "id": "SU0uroWvRnXS"
      },
      "execution_count": 3,
      "outputs": []
    },
    {
      "cell_type": "code",
      "source": [
        "from yargy import Parser, rule, and_, or_\n",
        "from yargy.pipelines import morph_pipeline\n",
        "from yargy.interpretation import fact\n",
        "from yargy.relations import gnc_relation\n",
        "from yargy.predicates import gram, is_capitalized, dictionary, gte, lte, caseless, normalized, dictionary\n",
        "\n",
        "\n",
        "Entry = fact(\n",
        "    \"Entry\",\n",
        "    [\"person\", \"birth_place\", \"birth_date\"]\n",
        ")\n",
        "\n",
        "Person = fact(\n",
        "    \"Person\",\n",
        "    [\"first\", \"last\"]\n",
        ")\n",
        "\n",
        "GRAD_VERB = morph_pipeline([\n",
        "    \"родился в\",\n",
        "    \"появился на свет в\",\n",
        "    \"в\"\n",
        "])\n",
        "\n",
        "TOWN_TAG = morph_pipeline([\n",
        "    \"появился на свет в\"\n",
        "    \"в селе\",\n",
        "    \"в деревне\",\n",
        "    \"в городе\",\n",
        "    \"родился в\",#\n",
        "    \"в поселоке\"\n",
        "    \"в\"\n",
        "])\n",
        "\n",
        "\n",
        "MONTHS = {\n",
        "    'январь',\n",
        "    'февраль',\n",
        "    'март',\n",
        "    'апрель',\n",
        "    'мая',\n",
        "    'июнь',\n",
        "    'июль',\n",
        "    'август',\n",
        "    'сентябрь',\n",
        "    'октябрь',\n",
        "    'ноябрь',\n",
        "    'декабрь'\n",
        "}\n",
        "\n",
        "MONTH_NAME = dictionary(MONTHS)\n",
        "\n",
        "YEAR_WORDS = or_(\n",
        "    rule(caseless('г'), '.'),\n",
        "    rule(normalized('год'))\n",
        ")\n",
        "\n",
        "DAY = and_(\n",
        "    gte(1),\n",
        "    lte(31)\n",
        ")\n",
        "MONTH = and_(\n",
        "    gte(1),\n",
        "    lte(12)\n",
        ")\n",
        "YEAR = and_(\n",
        "    gte(1),\n",
        "    lte(2024)\n",
        ")\n",
        "\n",
        "DATE = or_(\n",
        "    rule(\n",
        "        DAY,\n",
        "        '.',\n",
        "        MONTH,\n",
        "        '.',\n",
        "        YEAR\n",
        "    ),\n",
        "    rule(\n",
        "        DAY.optional(),\n",
        "        MONTH_NAME.optional(),\n",
        "        YEAR,\n",
        "        YEAR_WORDS.optional()\n",
        "    )\n",
        ").interpretation(Entry.birth_date)\n",
        "\n",
        "BIRTH_PLACE = rule(\n",
        "    #TOWN_TAG,\n",
        "    gram(\"NOUN\").optional().repeatable(),\n",
        "    and_(\n",
        "        is_capitalized(),\n",
        "        gram(\"NOUN\")\n",
        "    )\n",
        ").interpretation(Entry.birth_place)\n",
        "\n",
        "gnc = gnc_relation()\n",
        "\n",
        "NAME = rule(\n",
        "    is_capitalized().match(gnc).interpretation(Person.first.inflected()),\n",
        "    is_capitalized().match(gnc).interpretation(Person.last.inflected()).optional(),\n",
        ").interpretation(Person)\n",
        ""
      ],
      "metadata": {
        "id": "DXs4zwa9xSpw"
      },
      "execution_count": 40,
      "outputs": []
    },
    {
      "cell_type": "markdown",
      "source": [],
      "metadata": {
        "id": "qHSYHKQ4Lfjk"
      }
    },
    {
      "cell_type": "code",
      "source": [
        "Type1 = rule(\n",
        "      NAME.interpretation(Entry.person),\n",
        "      TOWN_TAG,\n",
        "      BIRTH_PLACE.interpretation(Entry.birth_place),\n",
        "      GRAD_VERB,\n",
        "      DATE.interpretation(Entry.birth_date)\n",
        "      )\n",
        "\n",
        "Type2 = rule(\n",
        "    NAME.interpretation(Entry.person),\n",
        "    GRAD_VERB,\n",
        "    DATE.interpretation(Entry.birth_date),\n",
        "    TOWN_TAG,\n",
        "    BIRTH_PLACE.interpretation(Entry.birth_place)\n",
        ")\n",
        "\n",
        "S = rule(\n",
        "  or_(Type1,\n",
        "      Type2\n",
        "    )\n",
        ").interpretation(Entry)"
      ],
      "metadata": {
        "id": "i_pwTz-gFS9o"
      },
      "execution_count": 41,
      "outputs": []
    },
    {
      "cell_type": "code",
      "source": [
        "text=\"Ваня родился в городе Самара в 1 марта 1990 года\"\n",
        "\n",
        "parser = Parser(S)\n",
        "for match in parser.findall(text):\n",
        "    print(match.fact)\n",
        "    print([_.value for _ in match.tokens])\n",
        "    display(match.tree.as_dot)"
      ],
      "metadata": {
        "colab": {
          "base_uri": "https://localhost:8080/",
          "height": 309
        },
        "id": "9Whm3PgbO00y",
        "outputId": "9afd41b8-4eb1-4e5f-f3e6-35735c74f531"
      },
      "execution_count": 45,
      "outputs": [
        {
          "output_type": "stream",
          "name": "stdout",
          "text": [
            "Entry(person=Person(first='ваня', last=None), birth_place='городе Самара', birth_date='1 марта 1990 года')\n",
            "['Ваня', 'родился', 'в', 'городе', 'Самара', 'в', '1', 'марта', '1990', 'года']\n"
          ]
        },
        {
          "output_type": "display_data",
          "data": {
            "text/plain": [
              "Graph(nodes=[...], edges=[...])"
            ],
            "image/svg+xml": "<?xml version=\"1.0\" encoding=\"UTF-8\" standalone=\"no\"?>\n<!DOCTYPE svg PUBLIC \"-//W3C//DTD SVG 1.1//EN\"\n \"http://www.w3.org/Graphics/SVG/1.1/DTD/svg11.dtd\">\n<!-- Generated by graphviz version 2.43.0 (0)\n -->\n<!-- Title: G Pages: 1 -->\n<svg width=\"518pt\" height=\"189pt\"\n viewBox=\"0.00 0.00 518.00 189.00\" xmlns=\"http://www.w3.org/2000/svg\" xmlns:xlink=\"http://www.w3.org/1999/xlink\">\n<g id=\"graph0\" class=\"graph\" transform=\"scale(1 1) rotate(0) translate(4 185)\">\n<title>G</title>\n<polygon fill=\"white\" stroke=\"transparent\" points=\"-4,4 -4,-185 514,-185 514,4 -4,4\"/>\n<!-- 0 -->\n<g id=\"node1\" class=\"node\">\n<title>0</title>\n<polygon fill=\"#dbdb8d\" stroke=\"transparent\" points=\"315,-181 268,-181 268,-162 315,-162 315,-181\"/>\n<text text-anchor=\"middle\" x=\"291.5\" y=\"-169\" font-family=\"sans\" font-size=\"10.00\">Entry</text>\n</g>\n<!-- 1 -->\n<g id=\"node2\" class=\"node\">\n<title>1</title>\n<polygon fill=\"#aec7e8\" stroke=\"transparent\" points=\"306,-154 277,-154 277,-135 306,-135 306,-154\"/>\n<text text-anchor=\"middle\" x=\"291.5\" y=\"-142\" font-family=\"sans\" font-size=\"10.00\">R1</text>\n</g>\n<!-- 0&#45;&gt;1 -->\n<g id=\"edge1\" class=\"edge\">\n<title>0&#45;&gt;1</title>\n<path fill=\"none\" stroke=\"gray\" d=\"M291.5,-161.76C291.5,-160.36 291.5,-158.9 291.5,-157.45\"/>\n<polygon fill=\"gray\" stroke=\"gray\" points=\"292.55,-157.11 291.5,-154.11 290.45,-157.11 292.55,-157.11\"/>\n</g>\n<!-- 2 -->\n<g id=\"node3\" class=\"node\">\n<title>2</title>\n<polygon fill=\"#dbdb8d\" stroke=\"transparent\" points=\"185,-127 96,-127 96,-108 185,-108 185,-127\"/>\n<text text-anchor=\"middle\" x=\"140.5\" y=\"-115\" font-family=\"sans\" font-size=\"10.00\">Entry.person</text>\n</g>\n<!-- 1&#45;&gt;2 -->\n<g id=\"edge2\" class=\"edge\">\n<title>1&#45;&gt;2</title>\n<path fill=\"none\" stroke=\"gray\" d=\"M276.75,-141.06C256.48,-137.7 219.08,-131.51 188.59,-126.46\"/>\n<polygon fill=\"gray\" stroke=\"gray\" points=\"188.41,-125.37 185.28,-125.91 188.07,-127.44 188.41,-125.37\"/>\n</g>\n<!-- 6 -->\n<g id=\"node7\" class=\"node\">\n<title>6</title>\n<polygon fill=\"#aec7e8\" stroke=\"transparent\" points=\"231,-127 202,-127 202,-108 231,-108 231,-127\"/>\n<text text-anchor=\"middle\" x=\"216.5\" y=\"-115\" font-family=\"sans\" font-size=\"10.00\">R3</text>\n</g>\n<!-- 1&#45;&gt;6 -->\n<g id=\"edge3\" class=\"edge\">\n<title>1&#45;&gt;6</title>\n<path fill=\"none\" stroke=\"gray\" d=\"M276.76,-139.93C265.13,-136.94 248.57,-132.32 234.5,-127 234.37,-126.95 234.24,-126.9 234.11,-126.85\"/>\n<polygon fill=\"gray\" stroke=\"gray\" points=\"234.53,-125.89 231.35,-125.74 233.74,-127.83 234.53,-125.89\"/>\n</g>\n<!-- 9 -->\n<g id=\"node10\" class=\"node\">\n<title>9</title>\n<polygon fill=\"#dbdb8d\" stroke=\"transparent\" points=\"351,-127 232,-127 232,-108 351,-108 351,-127\"/>\n<text text-anchor=\"middle\" x=\"291.5\" y=\"-115\" font-family=\"sans\" font-size=\"10.00\">Entry.birth_place</text>\n</g>\n<!-- 1&#45;&gt;9 -->\n<g id=\"edge4\" class=\"edge\">\n<title>1&#45;&gt;9</title>\n<path fill=\"none\" stroke=\"gray\" d=\"M291.5,-134.76C291.5,-133.36 291.5,-131.9 291.5,-130.45\"/>\n<polygon fill=\"gray\" stroke=\"gray\" points=\"292.55,-130.11 291.5,-127.11 290.45,-130.11 292.55,-130.11\"/>\n</g>\n<!-- 14 -->\n<g id=\"node15\" class=\"node\">\n<title>14</title>\n<polygon fill=\"#aec7e8\" stroke=\"transparent\" points=\"381,-127 352,-127 352,-108 381,-108 381,-127\"/>\n<text text-anchor=\"middle\" x=\"366.5\" y=\"-115\" font-family=\"sans\" font-size=\"10.00\">R5</text>\n</g>\n<!-- 1&#45;&gt;14 -->\n<g id=\"edge5\" class=\"edge\">\n<title>1&#45;&gt;14</title>\n<path fill=\"none\" stroke=\"gray\" d=\"M306.42,-139.69C317.8,-136.64 333.81,-132.05 347.5,-127 347.92,-126.84 348.35,-126.68 348.78,-126.52\"/>\n<polygon fill=\"gray\" stroke=\"gray\" points=\"349.25,-127.46 351.64,-125.37 348.47,-125.51 349.25,-127.46\"/>\n</g>\n<!-- 16 -->\n<g id=\"node17\" class=\"node\">\n<title>16</title>\n<polygon fill=\"#dbdb8d\" stroke=\"transparent\" points=\"495,-127 382,-127 382,-108 495,-108 495,-127\"/>\n<text text-anchor=\"middle\" x=\"438.5\" y=\"-115\" font-family=\"sans\" font-size=\"10.00\">Entry.birth_date</text>\n</g>\n<!-- 1&#45;&gt;16 -->\n<g id=\"edge6\" class=\"edge\">\n<title>1&#45;&gt;16</title>\n<path fill=\"none\" stroke=\"gray\" d=\"M306.13,-141.01C324.49,-137.89 356.99,-132.36 385.19,-127.57\"/>\n<polygon fill=\"gray\" stroke=\"gray\" points=\"385.47,-128.58 388.25,-127.05 385.12,-126.51 385.47,-128.58\"/>\n</g>\n<!-- 3 -->\n<g id=\"node4\" class=\"node\">\n<title>3</title>\n<polygon fill=\"#dbdb8d\" stroke=\"transparent\" points=\"149,-100 96,-100 96,-81 149,-81 149,-100\"/>\n<text text-anchor=\"middle\" x=\"122.5\" y=\"-88\" font-family=\"sans\" font-size=\"10.00\">Person</text>\n</g>\n<!-- 2&#45;&gt;3 -->\n<g id=\"edge7\" class=\"edge\">\n<title>2&#45;&gt;3</title>\n<path fill=\"none\" stroke=\"gray\" d=\"M134.2,-107.76C133.09,-106.21 131.91,-104.57 130.75,-102.96\"/>\n<polygon fill=\"gray\" stroke=\"gray\" points=\"131.31,-101.93 128.7,-100.11 129.6,-103.16 131.31,-101.93\"/>\n</g>\n<!-- 4 -->\n<g id=\"node5\" class=\"node\">\n<title>4</title>\n<polygon fill=\"#dbdb8d\" stroke=\"transparent\" points=\"245,-73 0,-73 0,-54 245,-54 245,-73\"/>\n<text text-anchor=\"middle\" x=\"122.5\" y=\"-61\" font-family=\"sans\" font-size=\"10.00\">Person.first.inflected(sing, nomn)^gnc</text>\n</g>\n<!-- 3&#45;&gt;4 -->\n<g id=\"edge8\" class=\"edge\">\n<title>3&#45;&gt;4</title>\n<path fill=\"none\" stroke=\"gray\" d=\"M122.5,-80.76C122.5,-79.36 122.5,-77.9 122.5,-76.45\"/>\n<polygon fill=\"gray\" stroke=\"gray\" points=\"123.55,-76.11 122.5,-73.11 121.45,-76.11 123.55,-76.11\"/>\n</g>\n<!-- 5 -->\n<g id=\"node6\" class=\"node\">\n<title>5</title>\n<polygon fill=\"#eeeeee\" stroke=\"transparent\" points=\"143,-46 102,-46 102,-27 143,-27 143,-46\"/>\n<text text-anchor=\"middle\" x=\"122.5\" y=\"-34\" font-family=\"sans\" font-size=\"10.00\">Ваня</text>\n</g>\n<!-- 4&#45;&gt;5 -->\n<g id=\"edge9\" class=\"edge\">\n<title>4&#45;&gt;5</title>\n<path fill=\"none\" stroke=\"gray\" d=\"M122.5,-53.76C122.5,-52.36 122.5,-50.9 122.5,-49.45\"/>\n<polygon fill=\"gray\" stroke=\"gray\" points=\"123.55,-49.11 122.5,-46.11 121.45,-49.11 123.55,-49.11\"/>\n</g>\n<!-- 7 -->\n<g id=\"node8\" class=\"node\">\n<title>7</title>\n<polygon fill=\"#eeeeee\" stroke=\"transparent\" points=\"209,-100 150,-100 150,-81 209,-81 209,-100\"/>\n<text text-anchor=\"middle\" x=\"179.5\" y=\"-88\" font-family=\"sans\" font-size=\"10.00\">родился</text>\n</g>\n<!-- 6&#45;&gt;7 -->\n<g id=\"edge10\" class=\"edge\">\n<title>6&#45;&gt;7</title>\n<path fill=\"none\" stroke=\"gray\" d=\"M203.56,-107.76C200.81,-105.9 197.88,-103.92 195.04,-102\"/>\n<polygon fill=\"gray\" stroke=\"gray\" points=\"195.32,-100.92 192.25,-100.11 194.14,-102.66 195.32,-100.92\"/>\n</g>\n<!-- 8 -->\n<g id=\"node9\" class=\"node\">\n<title>8</title>\n<polygon fill=\"#eeeeee\" stroke=\"transparent\" points=\"233,-100 210,-100 210,-81 233,-81 233,-100\"/>\n<text text-anchor=\"middle\" x=\"221.5\" y=\"-88\" font-family=\"sans\" font-size=\"10.00\">в</text>\n</g>\n<!-- 6&#45;&gt;8 -->\n<g id=\"edge11\" class=\"edge\">\n<title>6&#45;&gt;8</title>\n<path fill=\"none\" stroke=\"gray\" d=\"M218.25,-107.76C218.53,-106.36 218.82,-104.9 219.11,-103.45\"/>\n<polygon fill=\"gray\" stroke=\"gray\" points=\"220.22,-103.26 219.78,-100.11 218.16,-102.85 220.22,-103.26\"/>\n</g>\n<!-- 10 -->\n<g id=\"node11\" class=\"node\">\n<title>10</title>\n<polygon fill=\"#dbdb8d\" stroke=\"transparent\" points=\"353,-100 234,-100 234,-81 353,-81 353,-100\"/>\n<text text-anchor=\"middle\" x=\"293.5\" y=\"-88\" font-family=\"sans\" font-size=\"10.00\">Entry.birth_place</text>\n</g>\n<!-- 9&#45;&gt;10 -->\n<g id=\"edge12\" class=\"edge\">\n<title>9&#45;&gt;10</title>\n<path fill=\"none\" stroke=\"gray\" d=\"M292.2,-107.76C292.31,-106.36 292.43,-104.9 292.54,-103.45\"/>\n<polygon fill=\"gray\" stroke=\"gray\" points=\"293.62,-103.19 292.81,-100.11 291.53,-103.02 293.62,-103.19\"/>\n</g>\n<!-- 11 -->\n<g id=\"node12\" class=\"node\">\n<title>11</title>\n<polygon fill=\"#aec7e8\" stroke=\"transparent\" points=\"298,-73 263,-73 263,-54 298,-54 298,-73\"/>\n<text text-anchor=\"middle\" x=\"280.5\" y=\"-61\" font-family=\"sans\" font-size=\"10.00\">R15</text>\n</g>\n<!-- 10&#45;&gt;11 -->\n<g id=\"edge13\" class=\"edge\">\n<title>10&#45;&gt;11</title>\n<path fill=\"none\" stroke=\"gray\" d=\"M288.95,-80.76C288.15,-79.21 287.3,-77.57 286.46,-75.96\"/>\n<polygon fill=\"gray\" stroke=\"gray\" points=\"287.29,-75.29 284.98,-73.11 285.43,-76.26 287.29,-75.29\"/>\n</g>\n<!-- 13 -->\n<g id=\"node14\" class=\"node\">\n<title>13</title>\n<polygon fill=\"#eeeeee\" stroke=\"transparent\" points=\"352,-73 299,-73 299,-54 352,-54 352,-73\"/>\n<text text-anchor=\"middle\" x=\"325.5\" y=\"-61\" font-family=\"sans\" font-size=\"10.00\">Самара</text>\n</g>\n<!-- 10&#45;&gt;13 -->\n<g id=\"edge14\" class=\"edge\">\n<title>10&#45;&gt;13</title>\n<path fill=\"none\" stroke=\"gray\" d=\"M304.69,-80.76C307.07,-78.9 309.61,-76.92 312.06,-75\"/>\n<polygon fill=\"gray\" stroke=\"gray\" points=\"312.76,-75.79 314.48,-73.11 311.47,-74.13 312.76,-75.79\"/>\n</g>\n<!-- 12 -->\n<g id=\"node13\" class=\"node\">\n<title>12</title>\n<polygon fill=\"#eeeeee\" stroke=\"transparent\" points=\"307,-46 254,-46 254,-27 307,-27 307,-46\"/>\n<text text-anchor=\"middle\" x=\"280.5\" y=\"-34\" font-family=\"sans\" font-size=\"10.00\">городе</text>\n</g>\n<!-- 11&#45;&gt;12 -->\n<g id=\"edge15\" class=\"edge\">\n<title>11&#45;&gt;12</title>\n<path fill=\"none\" stroke=\"gray\" d=\"M280.5,-53.76C280.5,-52.36 280.5,-50.9 280.5,-49.45\"/>\n<polygon fill=\"gray\" stroke=\"gray\" points=\"281.55,-49.11 280.5,-46.11 279.45,-49.11 281.55,-49.11\"/>\n</g>\n<!-- 15 -->\n<g id=\"node16\" class=\"node\">\n<title>15</title>\n<polygon fill=\"#eeeeee\" stroke=\"transparent\" points=\"378,-100 355,-100 355,-81 378,-81 378,-100\"/>\n<text text-anchor=\"middle\" x=\"366.5\" y=\"-88\" font-family=\"sans\" font-size=\"10.00\">в</text>\n</g>\n<!-- 14&#45;&gt;15 -->\n<g id=\"edge16\" class=\"edge\">\n<title>14&#45;&gt;15</title>\n<path fill=\"none\" stroke=\"gray\" d=\"M366.5,-107.76C366.5,-106.36 366.5,-104.9 366.5,-103.45\"/>\n<polygon fill=\"gray\" stroke=\"gray\" points=\"367.55,-103.11 366.5,-100.11 365.45,-103.11 367.55,-103.11\"/>\n</g>\n<!-- 17 -->\n<g id=\"node18\" class=\"node\">\n<title>17</title>\n<polygon fill=\"#dbdb8d\" stroke=\"transparent\" points=\"495,-100 382,-100 382,-81 495,-81 495,-100\"/>\n<text text-anchor=\"middle\" x=\"438.5\" y=\"-88\" font-family=\"sans\" font-size=\"10.00\">Entry.birth_date</text>\n</g>\n<!-- 16&#45;&gt;17 -->\n<g id=\"edge17\" class=\"edge\">\n<title>16&#45;&gt;17</title>\n<path fill=\"none\" stroke=\"gray\" d=\"M438.5,-107.76C438.5,-106.36 438.5,-104.9 438.5,-103.45\"/>\n<polygon fill=\"gray\" stroke=\"gray\" points=\"439.55,-103.11 438.5,-100.11 437.45,-103.11 439.55,-103.11\"/>\n</g>\n<!-- 18 -->\n<g id=\"node19\" class=\"node\">\n<title>18</title>\n<polygon fill=\"#aec7e8\" stroke=\"transparent\" points=\"393,-73 358,-73 358,-54 393,-54 393,-73\"/>\n<text text-anchor=\"middle\" x=\"375.5\" y=\"-61\" font-family=\"sans\" font-size=\"10.00\">R16</text>\n</g>\n<!-- 17&#45;&gt;18 -->\n<g id=\"edge18\" class=\"edge\">\n<title>17&#45;&gt;18</title>\n<path fill=\"none\" stroke=\"gray\" d=\"M416.68,-80.98C410.18,-78.43 403.05,-75.61 396.5,-73 396.37,-72.95 396.24,-72.9 396.12,-72.85\"/>\n<polygon fill=\"gray\" stroke=\"gray\" points=\"396.54,-71.89 393.37,-71.75 395.76,-73.84 396.54,-71.89\"/>\n</g>\n<!-- 20 -->\n<g id=\"node21\" class=\"node\">\n<title>20</title>\n<polygon fill=\"#aec7e8\" stroke=\"transparent\" points=\"429,-73 394,-73 394,-54 429,-54 429,-73\"/>\n<text text-anchor=\"middle\" x=\"411.5\" y=\"-61\" font-family=\"sans\" font-size=\"10.00\">R17</text>\n</g>\n<!-- 17&#45;&gt;20 -->\n<g id=\"edge19\" class=\"edge\">\n<title>17&#45;&gt;20</title>\n<path fill=\"none\" stroke=\"gray\" d=\"M429.06,-80.76C427.13,-78.98 425.09,-77.08 423.1,-75.24\"/>\n<polygon fill=\"gray\" stroke=\"gray\" points=\"423.72,-74.38 420.8,-73.11 422.29,-75.92 423.72,-74.38\"/>\n</g>\n<!-- 22 -->\n<g id=\"node23\" class=\"node\">\n<title>22</title>\n<polygon fill=\"#eeeeee\" stroke=\"transparent\" points=\"471,-73 430,-73 430,-54 471,-54 471,-73\"/>\n<text text-anchor=\"middle\" x=\"450.5\" y=\"-61\" font-family=\"sans\" font-size=\"10.00\">1990</text>\n</g>\n<!-- 17&#45;&gt;22 -->\n<g id=\"edge20\" class=\"edge\">\n<title>17&#45;&gt;22</title>\n<path fill=\"none\" stroke=\"gray\" d=\"M442.7,-80.76C443.44,-79.21 444.22,-77.57 445,-75.96\"/>\n<polygon fill=\"gray\" stroke=\"gray\" points=\"446.01,-76.27 446.37,-73.11 444.12,-75.36 446.01,-76.27\"/>\n</g>\n<!-- 23 -->\n<g id=\"node24\" class=\"node\">\n<title>23</title>\n<polygon fill=\"#aec7e8\" stroke=\"transparent\" points=\"507,-73 472,-73 472,-54 507,-54 507,-73\"/>\n<text text-anchor=\"middle\" x=\"489.5\" y=\"-61\" font-family=\"sans\" font-size=\"10.00\">R18</text>\n</g>\n<!-- 17&#45;&gt;23 -->\n<g id=\"edge21\" class=\"edge\">\n<title>17&#45;&gt;23</title>\n<path fill=\"none\" stroke=\"gray\" d=\"M456.05,-80.9C460.27,-78.83 464.8,-76.61 469.13,-74.48\"/>\n<polygon fill=\"gray\" stroke=\"gray\" points=\"469.86,-75.3 472.09,-73.03 468.93,-73.41 469.86,-75.3\"/>\n</g>\n<!-- 19 -->\n<g id=\"node20\" class=\"node\">\n<title>19</title>\n<polygon fill=\"#eeeeee\" stroke=\"transparent\" points=\"387,-46 364,-46 364,-27 387,-27 387,-46\"/>\n<text text-anchor=\"middle\" x=\"375.5\" y=\"-34\" font-family=\"sans\" font-size=\"10.00\">1</text>\n</g>\n<!-- 18&#45;&gt;19 -->\n<g id=\"edge22\" class=\"edge\">\n<title>18&#45;&gt;19</title>\n<path fill=\"none\" stroke=\"gray\" d=\"M375.5,-53.76C375.5,-52.36 375.5,-50.9 375.5,-49.45\"/>\n<polygon fill=\"gray\" stroke=\"gray\" points=\"376.55,-49.11 375.5,-46.11 374.45,-49.11 376.55,-49.11\"/>\n</g>\n<!-- 21 -->\n<g id=\"node22\" class=\"node\">\n<title>21</title>\n<polygon fill=\"#eeeeee\" stroke=\"transparent\" points=\"435,-46 388,-46 388,-27 435,-27 435,-46\"/>\n<text text-anchor=\"middle\" x=\"411.5\" y=\"-34\" font-family=\"sans\" font-size=\"10.00\">марта</text>\n</g>\n<!-- 20&#45;&gt;21 -->\n<g id=\"edge23\" class=\"edge\">\n<title>20&#45;&gt;21</title>\n<path fill=\"none\" stroke=\"gray\" d=\"M411.5,-53.76C411.5,-52.36 411.5,-50.9 411.5,-49.45\"/>\n<polygon fill=\"gray\" stroke=\"gray\" points=\"412.55,-49.11 411.5,-46.11 410.45,-49.11 412.55,-49.11\"/>\n</g>\n<!-- 24 -->\n<g id=\"node25\" class=\"node\">\n<title>24</title>\n<polygon fill=\"#aec7e8\" stroke=\"transparent\" points=\"507,-46 472,-46 472,-27 507,-27 507,-46\"/>\n<text text-anchor=\"middle\" x=\"489.5\" y=\"-34\" font-family=\"sans\" font-size=\"10.00\">R20</text>\n</g>\n<!-- 23&#45;&gt;24 -->\n<g id=\"edge24\" class=\"edge\">\n<title>23&#45;&gt;24</title>\n<path fill=\"none\" stroke=\"gray\" d=\"M489.5,-53.76C489.5,-52.36 489.5,-50.9 489.5,-49.45\"/>\n<polygon fill=\"gray\" stroke=\"gray\" points=\"490.55,-49.11 489.5,-46.11 488.45,-49.11 490.55,-49.11\"/>\n</g>\n<!-- 25 -->\n<g id=\"node26\" class=\"node\">\n<title>25</title>\n<polygon fill=\"#eeeeee\" stroke=\"transparent\" points=\"510,-19 469,-19 469,0 510,0 510,-19\"/>\n<text text-anchor=\"middle\" x=\"489.5\" y=\"-7\" font-family=\"sans\" font-size=\"10.00\">года</text>\n</g>\n<!-- 24&#45;&gt;25 -->\n<g id=\"edge25\" class=\"edge\">\n<title>24&#45;&gt;25</title>\n<path fill=\"none\" stroke=\"gray\" d=\"M489.5,-26.76C489.5,-25.36 489.5,-23.9 489.5,-22.45\"/>\n<polygon fill=\"gray\" stroke=\"gray\" points=\"490.55,-22.11 489.5,-19.11 488.45,-22.11 490.55,-22.11\"/>\n</g>\n</g>\n</svg>\n"
          },
          "metadata": {}
        }
      ]
    },
    {
      "cell_type": "code",
      "source": [
        "from dataclasses import dataclass\n",
        "from typing import Iterator, Optional\n",
        "\n",
        "@dataclass\n",
        "class Entry:\n",
        "    name: str\n",
        "    birth_date: Optional[str]\n",
        "    birth_date: Optional[str]\n",
        "\n",
        "def read_texts(fn: str):\n",
        "    texts=[]\n",
        "    with open(fn, \"rt\", encoding=\"utf-8\") as f:\n",
        "        for line in f:\n",
        "            texts.append(line.strip().split(\"\\t\")[2])\n",
        "    return texts\n"
      ],
      "metadata": {
        "id": "-VT5cB_e-Hgq"
      },
      "execution_count": 50,
      "outputs": []
    },
    {
      "cell_type": "code",
      "source": [
        "texts = list(read_texts(path))"
      ],
      "metadata": {
        "id": "YPLJ1YLlSLzW"
      },
      "execution_count": 54,
      "outputs": []
    },
    {
      "cell_type": "code",
      "source": [
        "from tqdm import tqdm\n",
        "\n",
        "for text in tqdm(texts, disable=True):\n",
        "    try:\n",
        "        for match in parser.findall(text):\n",
        "         print(match.fact)\n",
        "    except:\n",
        "       # empty\n",
        "       pass"
      ],
      "metadata": {
        "colab": {
          "base_uri": "https://localhost:8080/"
        },
        "id": "jYFspMzVFMEe",
        "outputId": "f1bd6e02-df01-465a-be85-9ecb3fef2d2f"
      },
      "execution_count": 56,
      "outputs": [
        {
          "output_type": "stream",
          "name": "stdout",
          "text": [
            "Entry(person=Person(first='яковлевюрий', last='яковлев'), birth_place='Москве', birth_date='1928 году')\n",
            "Entry(person=Person(first='патрик', last=None), birth_place='Бронксе', birth_date='1990 году')\n",
            "Entry(person=Person(first='инна', last='лиснянская'), birth_place='Баку', birth_date='1928 году')\n",
            "Entry(person=Person(first='колин', last='дэвис'), birth_place='графстве Суррей', birth_date='1927 году')\n",
            "Entry(person=Person(first='гамильтон', last=None), birth_place='Лондоне', birth_date='1922 году')\n",
            "Entry(person=Person(first='юлия', last='пастрана'), birth_place='Мексике', birth_date='1834 году')\n",
            "Entry(person=Person(first='рахлина', last=None), birth_place='Ленинграде', birth_date='1938 году')\n",
            "Entry(person=Person(first='владимир', last='высоцкий'), birth_place='Москве', birth_date='1938 году')\n",
            "Entry(person=Person(first='монро', last=None), birth_place='Ленинграде', birth_date='1969 году')\n",
            "Entry(person=Person(first='игорь', last='кваша'), birth_place='Москве', birth_date='1933 году')\n",
            "Entry(person=Person(first='полина', last='жеребцова'), birth_place='Грозном', birth_date='1985 году')\n",
            "Entry(person=Person(first='алексей', last='ремизов'), birth_place='Москве', birth_date='1877 году')\n",
            "Entry(person=Person(first='михаил', last='алгаш'), birth_place='Омске', birth_date='1988 году')\n"
          ]
        }
      ]
    },
    {
      "cell_type": "code",
      "source": [],
      "metadata": {
        "id": "OceJwNnIWHxj"
      },
      "execution_count": null,
      "outputs": []
    }
  ]
}